{
 "metadata": {
  "language_info": {
   "codemirror_mode": {
    "name": "ipython",
    "version": 3
   },
   "file_extension": ".py",
   "mimetype": "text/x-python",
   "name": "python",
   "nbconvert_exporter": "python",
   "pygments_lexer": "ipython3",
   "version": "3.7.4-final"
  },
  "orig_nbformat": 2,
  "kernelspec": {
   "name": "python3",
   "display_name": "Python 3",
   "language": "python"
  }
 },
 "nbformat": 4,
 "nbformat_minor": 2,
 "cells": [
  {
   "cell_type": "code",
   "execution_count": 26,
   "metadata": {},
   "outputs": [],
   "source": [
    "import sys\n",
    "import os\n",
    "from pathlib import Path\n",
    "sys.path.append(str(Path.cwd().parent).replace('\\\\', '/'))\n",
    "from mlwpy import *\n",
    "%matplotlib inline"
   ]
  },
  {
   "cell_type": "code",
   "execution_count": 29,
   "metadata": {},
   "outputs": [
    {
     "output_type": "execute_result",
     "data": {
      "text/plain": [
       "array([[0, 1, 2, 3, 4]])"
      ]
     },
     "metadata": {},
     "execution_count": 29
    }
   ],
   "source": [
    "row_vec = np.arange(5).reshape(1,5)\n",
    "row_vec"
   ]
  },
  {
   "cell_type": "code",
   "execution_count": 30,
   "metadata": {},
   "outputs": [
    {
     "output_type": "execute_result",
     "data": {
      "text/plain": [
       "array([[ 0],\n",
       "       [20],\n",
       "       [40],\n",
       "       [60],\n",
       "       [80]])"
      ]
     },
     "metadata": {},
     "execution_count": 30
    }
   ],
   "source": [
    "col_vec = np.arange(0,100,20).reshape(5,1)\n",
    "col_vec"
   ]
  },
  {
   "cell_type": "code",
   "execution_count": 33,
   "metadata": {},
   "outputs": [
    {
     "output_type": "stream",
     "name": "stdout",
     "text": [
      "row vec:\n[[0 1 2 3 4]]\ncol_vec\n[[ 0]\n [20]\n [40]\n [60]\n [80]]\ndot:\n[[600]]\n"
     ]
    }
   ],
   "source": [
    "print(\"row vec:\", row_vec,\n",
    "        \"col_vec\", col_vec,\n",
    "        \"dot:\", np.dot(row_vec, col_vec), sep=\"\\n\")"
   ]
  },
  {
   "cell_type": "code",
   "execution_count": 34,
   "metadata": {},
   "outputs": [
    {
     "output_type": "execute_result",
     "data": {
      "text/plain": [
       "array([[  0,   0,   0,   0,   0],\n",
       "       [  0,  20,  40,  60,  80],\n",
       "       [  0,  40,  80, 120, 160],\n",
       "       [  0,  60, 120, 180, 240],\n",
       "       [  0,  80, 160, 240, 320]])"
      ]
     },
     "metadata": {},
     "execution_count": 34
    }
   ],
   "source": [
    "np.dot(col_vec, row_vec)"
   ]
  },
  {
   "cell_type": "code",
   "execution_count": 40,
   "metadata": {},
   "outputs": [
    {
     "output_type": "stream",
     "name": "stdout",
     "text": [
      "oned_vec =  [0 1 2 3 4] / shpae =  (5,)\nrow_vec =  [[0 1 2 3 4]] / shpae =  (1, 5)\n"
     ]
    }
   ],
   "source": [
    "oned_vec = np.arange(5)\n",
    "print(\"oned_vec = \", oned_vec, \"/ shpae = \", oned_vec.shape)  \n",
    "print(\"row_vec = \", row_vec, \"/ shpae = \", row_vec.shape)  \n"
   ]
  },
  {
   "cell_type": "code",
   "execution_count": 53,
   "metadata": {},
   "outputs": [
    {
     "output_type": "stream",
     "name": "stdout",
     "text": [
      "D =  [[1 3]\n [2 5]\n [2 7]\n [3 2]]\nw =  [ 1.5 -3. ]\n[ -7.5 -12.  -18.   -1.5]\nshapes (2,) and (4,2) not aligned: 2 (dim 0) != 4 (dim 0)\n"
     ]
    }
   ],
   "source": [
    "D = np.array([[1,3],[2,5],[2,7],[3,2]])\n",
    "print(\"D = \", D)\n",
    "w = np.array([1.5, -3])\n",
    "print(\"w = \", w)\n",
    "print(np.dot(D,w))\n",
    "try :\n",
    "    np.dot(w,D)\n",
    "except ValueError as e:\n",
    "    print(e)"
   ]
  },
  {
   "cell_type": "code",
   "execution_count": 55,
   "metadata": {},
   "outputs": [
    {
     "output_type": "execute_result",
     "data": {
      "text/plain": [
       "array([ -7.5, -12. , -18. ,  -1.5])"
      ]
     },
     "metadata": {},
     "execution_count": 55
    }
   ],
   "source": [
    "def rdot(arr, brr):\n",
    "    '인수를 반대로 넣는 np.dot'\n",
    "    return np.dot(brr, arr)\n",
    "rdot(w,D)"
   ]
  },
  {
   "cell_type": "code",
   "execution_count": null,
   "metadata": {},
   "outputs": [],
   "source": []
  }
 ]
}